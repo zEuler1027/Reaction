{
 "cells": [
  {
   "cell_type": "code",
   "execution_count": 2,
   "metadata": {},
   "outputs": [],
   "source": [
    "import torch\n",
    "from torch import Tensor\n",
    "from torch_sparse import SparseTensor\n",
    "from typing import Tuple\n",
    "\n",
    "\n",
    "def triplets(\n",
    "    edge_index: Tensor,\n",
    "    num_nodes: int,\n",
    ") -> Tuple[Tensor, Tensor, Tensor, Tensor, Tensor, Tensor, Tensor]:\n",
    "    row, col = edge_index  # j->i\n",
    "\n",
    "    value = torch.arange(row.size(0), device=row.device)\n",
    "    adj_t = SparseTensor(row=col, col=row, value=value,\n",
    "                         sparse_sizes=(num_nodes, num_nodes))\n",
    "    adj_t_row = adj_t[row]\n",
    "    num_triplets = adj_t_row.set_value(None).sum(dim=1).to(torch.long)\n",
    "\n",
    "    # Node indices (k->j->i) for triplets.\n",
    "    idx_i = col.repeat_interleave(num_triplets)\n",
    "    idx_j = row.repeat_interleave(num_triplets)\n",
    "    idx_k = adj_t_row.storage.col()\n",
    "    mask = idx_i != idx_k  # Remove i == k triplets.\n",
    "    idx_i, idx_j, idx_k = idx_i[mask], idx_j[mask], idx_k[mask]\n",
    "\n",
    "    # Edge indices (k-j, j->i) for triplets.\n",
    "    idx_kj = adj_t_row.storage.value()[mask]\n",
    "    idx_ji = adj_t_row.storage.row()[mask]\n",
    "\n",
    "    return col, row, idx_i, idx_j, idx_k, idx_kj, idx_ji"
   ]
  },
  {
   "cell_type": "code",
   "execution_count": 3,
   "metadata": {},
   "outputs": [],
   "source": [
    "edge_index = torch.tensor([\n",
    "    [1, 2, 3, 0, 2],\n",
    "    [0, 1, 2, 3, 0]\n",
    "])"
   ]
  },
  {
   "cell_type": "code",
   "execution_count": 5,
   "metadata": {},
   "outputs": [
    {
     "data": {
      "text/plain": [
       "(tensor([0, 1, 2, 3, 0]),\n",
       " tensor([1, 2, 3, 0, 2]),\n",
       " tensor([0, 1, 2, 3, 3, 0]),\n",
       " tensor([1, 2, 3, 0, 0, 2]),\n",
       " tensor([2, 3, 0, 1, 2, 3]),\n",
       " tensor([1, 2, 3, 0, 4, 2]),\n",
       " tensor([0, 1, 2, 3, 3, 4]))"
      ]
     },
     "execution_count": 5,
     "metadata": {},
     "output_type": "execute_result"
    }
   ],
   "source": [
    "triplets(edge_index, edge_index.max().item() + 1)"
   ]
  },
  {
   "cell_type": "code",
   "execution_count": 12,
   "metadata": {},
   "outputs": [
    {
     "data": {
      "text/plain": [
       "1.4142135623730951"
      ]
     },
     "execution_count": 12,
     "metadata": {},
     "output_type": "execute_result"
    }
   ],
   "source": [
    "import numpy as np\n",
    "np.sqrt(2)"
   ]
  },
  {
   "cell_type": "code",
   "execution_count": 19,
   "metadata": {},
   "outputs": [
    {
     "data": {
      "text/plain": [
       "tensor([[ 0.3375, -0.2287,  0.4344],\n",
       "        [-0.2857, -0.1572,  0.0026],\n",
       "        [ 0.1044,  0.2744, -0.2282]])"
      ]
     },
     "execution_count": 19,
     "metadata": {},
     "output_type": "execute_result"
    }
   ],
   "source": [
    "torch.empty(3, 3).data.normal_(mean=0, std=2 / 9)"
   ]
  },
  {
   "cell_type": "code",
   "execution_count": null,
   "metadata": {},
   "outputs": [],
   "source": []
  }
 ],
 "metadata": {
  "kernelspec": {
   "display_name": "oa_reactdiff",
   "language": "python",
   "name": "python3"
  },
  "language_info": {
   "codemirror_mode": {
    "name": "ipython",
    "version": 3
   },
   "file_extension": ".py",
   "mimetype": "text/x-python",
   "name": "python",
   "nbconvert_exporter": "python",
   "pygments_lexer": "ipython3",
   "version": "3.9.16"
  }
 },
 "nbformat": 4,
 "nbformat_minor": 2
}
