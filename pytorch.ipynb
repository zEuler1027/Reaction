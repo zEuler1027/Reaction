{
 "cells": [
  {
   "cell_type": "code",
   "execution_count": 3,
   "metadata": {},
   "outputs": [],
   "source": [
    "from torch.utils.data import DataLoader\n",
    "from oa.dataset import ProcessedTS1x\n",
    "from pathlib import Path\n",
    "\n",
    "batch_size = 16\n",
    "val_config = dict(\n",
    "    datadir=\"oa/data/transition1x/\",\n",
    "    remove_h=False,\n",
    "    bz=batch_size,\n",
    "    num_workers=0,\n",
    "    clip_grad=True,\n",
    "    gradient_clip_val=None,\n",
    "    ema=False,\n",
    "    ema_decay=0.999,\n",
    "    swapping_react_prod=False,\n",
    "    append_frag=False,\n",
    "    use_by_ind=True,\n",
    "    reflection=False,\n",
    "    single_frag_only=True,\n",
    "    only_ts=False,\n",
    "    lr_schedule_type=None,\n",
    "    lr_schedule_config=dict(\n",
    "        gamma=0.8,\n",
    "        step_size=100,\n",
    "    ),  # step\n",
    ")\n",
    "\n",
    "# dataset\n",
    "dataset = ProcessedTS1x(Path((val_config['datadir']), 'val.pkl'), **val_config)  # load data\n",
    "dataloader = DataLoader(dataset, \n",
    "                        batch_size=batch_size,\n",
    "                        shuffle=False,\n",
    "                        num_workers=0,\n",
    "                        collate_fn=dataset.collate_fn)"
   ]
  },
  {
   "cell_type": "code",
   "execution_count": null,
   "metadata": {},
   "outputs": [],
   "source": []
  }
 ],
 "metadata": {
  "kernelspec": {
   "display_name": "oa_reactdiff",
   "language": "python",
   "name": "python3"
  },
  "language_info": {
   "codemirror_mode": {
    "name": "ipython",
    "version": 3
   },
   "file_extension": ".py",
   "mimetype": "text/x-python",
   "name": "python",
   "nbconvert_exporter": "python",
   "pygments_lexer": "ipython3",
   "version": "3.10.4"
  }
 },
 "nbformat": 4,
 "nbformat_minor": 2
}
