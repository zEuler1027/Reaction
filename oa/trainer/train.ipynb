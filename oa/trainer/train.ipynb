{
 "cells": [
  {
   "cell_type": "code",
   "execution_count": null,
   "metadata": {},
   "outputs": [],
   "source": [
    "from oa_reactdiff.dataset.transition1x import ProcessedTS1x\n",
    "import pickle\n",
    "from pathlib import Path\n",
    "from torch.utils.data import DataLoader\n"
   ]
  },
  {
   "cell_type": "code",
   "execution_count": null,
   "metadata": {},
   "outputs": [],
   "source": [
    "data = pickle.load(open('../data/transition1x/train_addprop.pkl', 'rb'))\n"
   ]
  },
  {
   "cell_type": "code",
   "execution_count": null,
   "metadata": {},
   "outputs": [],
   "source": [
    "training_config = dict(\n",
    "    datadir=\"../data/transition1x/\",\n",
    "    remove_h=False,\n",
    "    bz=14,\n",
    "    num_workers=0,\n",
    "    clip_grad=True,\n",
    "    gradient_clip_val=None,\n",
    "    ema=False,\n",
    "    ema_decay=0.999,\n",
    "    swapping_react_prod=True,\n",
    "    append_frag=False,\n",
    "    use_by_ind=True,\n",
    "    reflection=False,\n",
    "    single_frag_only=True,\n",
    "    only_ts=False,\n",
    "    lr_schedule_type=None,\n",
    "    lr_schedule_config=dict(\n",
    "        gamma=0.8,\n",
    "        step_size=100,\n",
    "    ),  # step\n",
    ")\n",
    "\n",
    "dataset = ProcessedTS1x(Path(training_config['datadir'], 'train.pkl'), **training_config)\n"
   ]
  },
  {
   "cell_type": "code",
   "execution_count": null,
   "metadata": {},
   "outputs": [],
   "source": [
    "dataset[0]"
   ]
  },
  {
   "cell_type": "code",
   "execution_count": null,
   "metadata": {},
   "outputs": [],
   "source": [
    "len(dataset)\n"
   ]
  },
  {
   "cell_type": "code",
   "execution_count": null,
   "metadata": {},
   "outputs": [],
   "source": [
    "dataset[0]['pos_1'].mean(dim=0)\n"
   ]
  },
  {
   "cell_type": "code",
   "execution_count": null,
   "metadata": {},
   "outputs": [],
   "source": [
    "train_loader = DataLoader(dataset,\n",
    "            batch_size=14,\n",
    "            shuffle=False,\n",
    "            num_workers=0,\n",
    "            collate_fn=dataset.collate_fn,\n",
    "            )\n"
   ]
  },
  {
   "cell_type": "code",
   "execution_count": null,
   "metadata": {},
   "outputs": [],
   "source": [
    "for i in train_loader:\n",
    "    batch = i\n",
    "    break\n"
   ]
  },
  {
   "cell_type": "code",
   "execution_count": null,
   "metadata": {},
   "outputs": [],
   "source": [
    "batch[0][0].keys()\n"
   ]
  },
  {
   "cell_type": "code",
   "execution_count": null,
   "metadata": {},
   "outputs": [],
   "source": [
    "for key, val in batch[0][0].items():\n",
    "    print(key, val.shape, val.dtype)\n"
   ]
  },
  {
   "cell_type": "code",
   "execution_count": null,
   "metadata": {},
   "outputs": [],
   "source": []
  }
 ],
 "metadata": {
  "kernelspec": {
   "display_name": "oa_reactdiff",
   "language": "python",
   "name": "python3"
  },
  "language_info": {
   "codemirror_mode": {
    "name": "ipython",
    "version": 3
   },
   "file_extension": ".py",
   "mimetype": "text/x-python",
   "name": "python",
   "nbconvert_exporter": "python",
   "pygments_lexer": "ipython3",
   "version": "3.10.4"
  },
  "orig_nbformat": 4
 },
 "nbformat": 4,
 "nbformat_minor": 2
}
