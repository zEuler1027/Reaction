{
 "cells": [
  {
   "cell_type": "code",
   "execution_count": 1,
   "metadata": {},
   "outputs": [],
   "source": [
    "from oa_reactdiff.dataset.transition1x import ProcessedTS1x\n",
    "import pickle\n",
    "from pathlib import Path\n",
    "from torch.utils.data import DataLoader\n"
   ]
  },
  {
   "cell_type": "code",
   "execution_count": 2,
   "metadata": {},
   "outputs": [],
   "source": [
    "data = pickle.load(open('../data/transition1x/train_addprop.pkl', 'rb'))\n"
   ]
  },
  {
   "cell_type": "code",
   "execution_count": 3,
   "metadata": {},
   "outputs": [],
   "source": [
    "training_config = dict(\n",
    "    datadir=\"../data/transition1x/\",\n",
    "    remove_h=False,\n",
    "    bz=14,\n",
    "    num_workers=0,\n",
    "    clip_grad=True,\n",
    "    gradient_clip_val=None,\n",
    "    ema=False,\n",
    "    ema_decay=0.999,\n",
    "    swapping_react_prod=True,\n",
    "    append_frag=False,\n",
    "    use_by_ind=True,\n",
    "    reflection=False,\n",
    "    single_frag_only=True,\n",
    "    only_ts=False,\n",
    "    lr_schedule_type=None,\n",
    "    lr_schedule_config=dict(\n",
    "        gamma=0.8,\n",
    "        step_size=100,\n",
    "    ),  # step\n",
    ")\n",
    "\n",
    "dataset = ProcessedTS1x(Path(training_config['datadir'], 'train.pkl'), **training_config)\n"
   ]
  },
  {
   "cell_type": "code",
   "execution_count": 4,
   "metadata": {},
   "outputs": [
    {
     "data": {
      "text/plain": [
       "{'size_0': tensor(7),\n",
       " 'pos_0': tensor([[ 0.2427, -0.8901,  0.2854],\n",
       "         [-0.5765,  0.0045,  0.8826],\n",
       "         [-0.6887,  1.1058,  0.2289],\n",
       "         [ 0.1122,  0.9626, -0.8994],\n",
       "         [ 0.6299, -0.2113, -0.8175],\n",
       "         [-1.0335, -0.2771,  1.8197],\n",
       "         [ 1.3140, -0.6944, -1.4998]]),\n",
       " 'one_hot_0': tensor([[0, 0, 0, 1, 0],\n",
       "         [0, 1, 0, 0, 0],\n",
       "         [0, 0, 1, 0, 0],\n",
       "         [0, 0, 1, 0, 0],\n",
       "         [0, 1, 0, 0, 0],\n",
       "         [1, 0, 0, 0, 0],\n",
       "         [1, 0, 0, 0, 0]]),\n",
       " 'charge_0': tensor([[8],\n",
       "         [6],\n",
       "         [7],\n",
       "         [7],\n",
       "         [6],\n",
       "         [1],\n",
       "         [1]], dtype=torch.int32),\n",
       " 'mask_0': tensor([0, 0, 0, 0, 0, 0, 0]),\n",
       " 'size_1': tensor(7),\n",
       " 'pos_1': tensor([[ 0.1031,  0.6314, -1.1980],\n",
       "         [-0.8480,  0.1328, -0.5836],\n",
       "         [-0.8011, -0.5178,  0.5847],\n",
       "         [ 0.6439, -1.1659,  0.8551],\n",
       "         [ 1.0814, -0.0828,  0.6162],\n",
       "         [-1.8893,  0.2143, -0.9296],\n",
       "         [ 1.7100,  0.7879,  0.6552]]),\n",
       " 'one_hot_1': tensor([[0, 0, 0, 1, 0],\n",
       "         [0, 1, 0, 0, 0],\n",
       "         [0, 0, 1, 0, 0],\n",
       "         [0, 0, 1, 0, 0],\n",
       "         [0, 1, 0, 0, 0],\n",
       "         [1, 0, 0, 0, 0],\n",
       "         [1, 0, 0, 0, 0]]),\n",
       " 'charge_1': tensor([[8],\n",
       "         [6],\n",
       "         [7],\n",
       "         [7],\n",
       "         [6],\n",
       "         [1],\n",
       "         [1]], dtype=torch.int32),\n",
       " 'mask_1': tensor([0, 0, 0, 0, 0, 0, 0]),\n",
       " 'size_2': tensor(7),\n",
       " 'pos_2': tensor([[ 1.9504,  1.0311, -0.1182],\n",
       "         [ 0.8780,  0.5870, -0.4073],\n",
       "         [-0.1942,  0.5241,  0.5420],\n",
       "         [-1.5136, -0.0201, -0.2455],\n",
       "         [-0.8812, -0.7034,  0.5675],\n",
       "         [ 0.5929,  0.2361, -1.4219],\n",
       "         [-0.8323, -1.6548,  1.0833]]),\n",
       " 'one_hot_2': tensor([[0, 0, 0, 1, 0],\n",
       "         [0, 1, 0, 0, 0],\n",
       "         [0, 0, 1, 0, 0],\n",
       "         [0, 0, 1, 0, 0],\n",
       "         [0, 1, 0, 0, 0],\n",
       "         [1, 0, 0, 0, 0],\n",
       "         [1, 0, 0, 0, 0]]),\n",
       " 'charge_2': tensor([[8],\n",
       "         [6],\n",
       "         [7],\n",
       "         [7],\n",
       "         [6],\n",
       "         [1],\n",
       "         [1]], dtype=torch.int32),\n",
       " 'mask_2': tensor([0, 0, 0, 0, 0, 0, 0]),\n",
       " 'condition': tensor([[0]])}"
      ]
     },
     "execution_count": 4,
     "metadata": {},
     "output_type": "execute_result"
    }
   ],
   "source": [
    "dataset[0]"
   ]
  },
  {
   "cell_type": "code",
   "execution_count": 5,
   "metadata": {},
   "outputs": [
    {
     "data": {
      "text/plain": [
       "13466"
      ]
     },
     "execution_count": 5,
     "metadata": {},
     "output_type": "execute_result"
    }
   ],
   "source": [
    "len(dataset)\n"
   ]
  },
  {
   "cell_type": "code",
   "execution_count": 13,
   "metadata": {},
   "outputs": [
    {
     "data": {
      "text/plain": [
       "tensor([ 8.5149e-09,  1.7030e-08, -8.5149e-09])"
      ]
     },
     "execution_count": 13,
     "metadata": {},
     "output_type": "execute_result"
    }
   ],
   "source": [
    "dataset[0]['pos_1'].mean(dim=0)\n"
   ]
  },
  {
   "cell_type": "code",
   "execution_count": 15,
   "metadata": {},
   "outputs": [],
   "source": [
    "train_loader = DataLoader(dataset,\n",
    "            batch_size=14,\n",
    "            shuffle=False,\n",
    "            num_workers=0,\n",
    "            collate_fn=dataset.collate_fn,\n",
    "            )\n"
   ]
  },
  {
   "cell_type": "code",
   "execution_count": 22,
   "metadata": {},
   "outputs": [],
   "source": [
    "for i in train_loader:\n",
    "    batch = i\n",
    "    break\n"
   ]
  },
  {
   "cell_type": "code",
   "execution_count": 23,
   "metadata": {},
   "outputs": [
    {
     "data": {
      "text/plain": [
       "dict_keys(['size', 'pos', 'one_hot', 'charge', 'mask'])"
      ]
     },
     "execution_count": 23,
     "metadata": {},
     "output_type": "execute_result"
    }
   ],
   "source": [
    "batch[0][0].keys()\n"
   ]
  },
  {
   "cell_type": "code",
   "execution_count": 25,
   "metadata": {},
   "outputs": [
    {
     "name": "stdout",
     "output_type": "stream",
     "text": [
      "size torch.Size([14]) torch.int64\n",
      "pos torch.Size([103, 3]) torch.float32\n",
      "one_hot torch.Size([103, 5]) torch.int64\n",
      "charge torch.Size([103, 1]) torch.int32\n",
      "mask torch.Size([103]) torch.int64\n"
     ]
    }
   ],
   "source": [
    "for key, val in batch[0][0].items():\n",
    "    print(key, val.shape, val.dtype)\n"
   ]
  },
  {
   "cell_type": "code",
   "execution_count": null,
   "metadata": {},
   "outputs": [],
   "source": []
  }
 ],
 "metadata": {
  "kernelspec": {
   "display_name": "oa_reactdiff",
   "language": "python",
   "name": "python3"
  },
  "language_info": {
   "codemirror_mode": {
    "name": "ipython",
    "version": 3
   },
   "file_extension": ".py",
   "mimetype": "text/x-python",
   "name": "python",
   "nbconvert_exporter": "python",
   "pygments_lexer": "ipython3",
   "version": "3.10.4"
  },
  "orig_nbformat": 4
 },
 "nbformat": 4,
 "nbformat_minor": 2
}
