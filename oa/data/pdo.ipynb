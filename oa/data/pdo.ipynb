{
 "cells": [
  {
   "cell_type": "code",
   "execution_count": null,
   "metadata": {},
   "outputs": [],
   "source": [
    "import numpy as np\n",
    "import os"
   ]
  },
  {
   "cell_type": "code",
   "execution_count": null,
   "metadata": {},
   "outputs": [],
   "source": [
    "directory_path = 'TS_info/'\n",
    "npz_files_data = {}\n",
    "\n",
    "for filename in os.listdir(directory_path):\n",
    "    if filename.endswith('.npz'):\n",
    "        file_path = os.path.join(directory_path, filename)\n",
    "        data = np.load(file_path)\n",
    "        npz_files_data[filename] = data"
   ]
  },
  {
   "cell_type": "code",
   "execution_count": null,
   "metadata": {},
   "outputs": [],
   "source": [
    "keys = {'IS', 'TS', 'FS'}\n",
    "data = {}\n",
    "\n",
    "for key in keys:\n",
    "    data[key] = []\n",
    "    for file in npz_files_data:\n",
    "        for molecule in npz_files_data[file][key]:\n",
    "            pos = molecule[\n",
    "                np.where(np.abs(molecule).sum(axis=1) > 0)\n",
    "            ] \n",
    "            atomic_numbers = np.full((pos.shape[0], 1), 46, dtype=np.int64)\n",
    "            atomic_numbers[135: ] = 6\n",
    "            mol = np.concatenate((atomic_numbers, pos), axis=1)\n",
    "            data[key].append(mol)"
   ]
  },
  {
   "cell_type": "code",
   "execution_count": null,
   "metadata": {},
   "outputs": [],
   "source": [
    "for key in keys:\n",
    "    data[key] = np.array(data[key], dtype=object)"
   ]
  },
  {
   "cell_type": "code",
   "execution_count": null,
   "metadata": {},
   "outputs": [],
   "source": [
    "# save data \n",
    "np.savez('pdo/train.npz', **data, allow_pickle=True)"
   ]
  },
  {
   "cell_type": "code",
   "execution_count": null,
   "metadata": {},
   "outputs": [],
   "source": [
    "data = np.load('pdo/train.npz', allow_pickle=True)"
   ]
  },
  {
   "cell_type": "code",
   "execution_count": null,
   "metadata": {},
   "outputs": [],
   "source": [
    "data['IS'][0]"
   ]
  },
  {
   "cell_type": "code",
   "execution_count": null,
   "metadata": {},
   "outputs": [],
   "source": []
  }
 ],
 "metadata": {
  "kernelspec": {
   "display_name": "oa_reactdiff",
   "language": "python",
   "name": "python3"
  },
  "language_info": {
   "codemirror_mode": {
    "name": "ipython",
    "version": 3
   },
   "file_extension": ".py",
   "mimetype": "text/x-python",
   "name": "python",
   "nbconvert_exporter": "python",
   "pygments_lexer": "ipython3",
   "version": "3.10.4"
  }
 },
 "nbformat": 4,
 "nbformat_minor": 2
}
