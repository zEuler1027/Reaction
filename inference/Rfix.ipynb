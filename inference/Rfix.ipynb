{
 "cells": [
  {
   "cell_type": "code",
   "execution_count": null,
   "metadata": {},
   "outputs": [],
   "source": [
    "import pickle\n",
    "from oa_reactdiff.dataset import ProcessedTS1x\n",
    "from pathlib import Path\n",
    "import numpy as np\n",
    "import py3Dmol\n",
    "from oa_reactdiff.analyze.rmsd import xyz2pmg, pymatgen_rmsd\n",
    "from pymatgen.core import Molecule\n",
    "from typing import Tuple\n",
    "from mace.calculators import mace_off\n",
    "from ase import build\n",
    "from ase.io import read\n",
    "from tblite.ase import TBLite"
   ]
  },
  {
   "cell_type": "code",
   "execution_count": null,
   "metadata": {},
   "outputs": [],
   "source": [
    "def draw_reaction(react_path: str, idx: int = 0, prefix: str = \"gen\") -> py3Dmol.view:\n",
    "    \"\"\"Draw the {reactants, transition states, products} of the reaction.\n",
    "\n",
    "    Args:\n",
    "        react_path (str): path to the reaction.\n",
    "        idx (int, optional): index for the generated reaction. Defaults to 0.\n",
    "        prefix (str, optional): prefix for distinguishing true sample and generated structure.\n",
    "            Defaults to \"gen\".\n",
    "\n",
    "    Returns:\n",
    "        py3Dmol.view: _description_\n",
    "    \"\"\"\n",
    "    with open(f\"{react_path}/{prefix}_{idx}_react.xyz\", \"r\") as fo:\n",
    "        natoms = int(fo.readline()) * 3\n",
    "    mol = f\"{natoms}\\n\\n\"\n",
    "    for ii, t in enumerate([\"react\", \"ts\", \"prod\"]):\n",
    "        pmatg_mol = xyz2pmg(f\"{react_path}/{prefix}_{idx}_{t}.xyz\")\n",
    "        coords = np.array(pmatg_mol.cart_coords)\n",
    "        coords[:, 0] += ii * 10\n",
    "        pmatg_mol_prime = Molecule(\n",
    "            species=pmatg_mol.atomic_numbers,\n",
    "            coords=coords,\n",
    "        )\n",
    "        mol += \"\\n\".join(pmatg_mol_prime.to(fmt=\"xyz\").split(\"\\n\")[2:]) + \"\\n\"\n",
    "    viewer = py3Dmol.view(2024, 1576)\n",
    "    viewer.addModel(mol, \"xyz\")\n",
    "    viewer.setStyle({'stick': {'radius': 0.20}, \"sphere\": {\"radius\": 0.35}})\n",
    "    viewer.zoomTo()\n",
    "    return viewer\n",
    "\n",
    "def draw_true_reaction(molecules: Tuple) -> py3Dmol.view:\n",
    "\n",
    "    natoms = molecules[0].num_sites * 3\n",
    "    mol = f\"{natoms}\\n\\n\"\n",
    "    for ii, pmatg_mol in enumerate(molecules):\n",
    "        coords = np.array(pmatg_mol.cart_coords)\n",
    "        coords[:, 0] += ii * 10\n",
    "        pmatg_mol_prime = Molecule(\n",
    "            species=pmatg_mol.atomic_numbers,\n",
    "            coords=coords,\n",
    "        )\n",
    "        mol += \"\\n\".join(pmatg_mol_prime.to(fmt=\"xyz\").split(\"\\n\")[2:]) + \"\\n\"\n",
    "    viewer = py3Dmol.view(2024, 1576)\n",
    "    viewer.addModel(mol, \"xyz\")\n",
    "    viewer.setStyle({'stick': {'radius': 0.20}, \"sphere\": {\"radius\": 0.35}})\n",
    "    viewer.zoomTo()\n",
    "    return viewer\n",
    "\n",
    "def data2pmg(data):\n",
    "    mol0 = Molecule(\n",
    "        species=data['charge_0'].squeeze().cpu().numpy(),\n",
    "        coords=data['pos_0'].cpu().numpy(),\n",
    "    )\n",
    "\n",
    "    mol1 = Molecule(\n",
    "        species=data['charge_1'].squeeze().cpu().numpy(),\n",
    "        coords=data['pos_1'].cpu().numpy(),\n",
    "    )\n",
    "\n",
    "    mol2 = Molecule(\n",
    "        species=data['charge_2'].squeeze().cpu().numpy(),\n",
    "        coords=data['pos_2'].cpu().numpy(),\n",
    "    )\n",
    "    return mol0, mol1, mol2"
   ]
  },
  {
   "cell_type": "code",
   "execution_count": null,
   "metadata": {},
   "outputs": [],
   "source": [
    "val_config = dict(\n",
    "    datadir=\"oa_reactdiff/data/transition1x/\",\n",
    "    remove_h=False,\n",
    "    bz=1,\n",
    "    num_workers=0,\n",
    "    clip_grad=True,\n",
    "    gradient_clip_val=None,\n",
    "    ema=False,\n",
    "    ema_decay=0.999,\n",
    "    swapping_react_prod=False,\n",
    "    append_frag=False,\n",
    "    use_by_ind=True,\n",
    "    reflection=False,\n",
    "    single_frag_only=False,\n",
    "    only_ts=False,\n",
    "    lr_schedule_type=None,\n",
    "    lr_schedule_config=dict(\n",
    "        gamma=0.8,\n",
    "        step_size=100,\n",
    "    ),  # step\n",
    ")\n",
    "\n",
    "# dataset\n",
    "dataraw =pickle.load(open('oa_reactdiff/data/transition1x/valid_addprop.pkl','rb'))\n",
    "dataset = ProcessedTS1x(Path(\"oa_reactdiff/data/transition1x/valid_addprop.pkl\"),\n",
    "                        **val_config)"
   ]
  },
  {
   "cell_type": "code",
   "execution_count": null,
   "metadata": {},
   "outputs": [],
   "source": [
    "idx = 0\n",
    "ori_idx = dataraw['use_ind'][idx]\n",
    "smi = dataraw['product']['smi'][ori_idx][0]\n",
    "print(smi)\n",
    "data = dataset[idx]"
   ]
  },
  {
   "cell_type": "code",
   "execution_count": null,
   "metadata": {},
   "outputs": [],
   "source": [
    "print(dataraw['reactant']['wB97x_6-31G(d).energy'][5] - dataraw['transition_state']['wB97x_6-31G(d).energy'][5])\n",
    "from ase import Atoms\n",
    "mol1 = Atoms(numbers=dataraw['reactant']['charges'][5], positions=dataraw['reactant']['positions'][5])\n",
    "mol2 = Atoms(numbers=dataraw['transition_state']['charges'][5], positions=dataraw['transition_state']['positions'][5])\n",
    "calc = mace_off(model='medium', device='cpu')\n",
    "mol1.set_calculator(TBLite())\n",
    "mol2.set_calculator(TBLite())\n",
    "print(mol1.get_potential_energy() - mol2.get_potential_energy())\n"
   ]
  },
  {
   "cell_type": "code",
   "execution_count": null,
   "metadata": {},
   "outputs": [],
   "source": [
    "atoms_r = read('./fix/iteration_2/gen_2_react.xyz')\n",
    "atoms_p = read('./fix/iteration_2/gen_12_react.xyz')\n",
    "calc = mace_off(model=\"medium\", device='cpu')\n",
    "atoms_r.set_calculator(calc)\n",
    "atoms_p.set_calculator(calc)\n",
    "print(atoms_r.get_potential_energy() - atoms_p.get_potential_energy())"
   ]
  },
  {
   "cell_type": "code",
   "execution_count": null,
   "metadata": {},
   "outputs": [],
   "source": [
    "# ground_truth\n",
    "mol = data2pmg(data)\n",
    "draw_true_reaction(mol)"
   ]
  },
  {
   "cell_type": "code",
   "execution_count": null,
   "metadata": {},
   "outputs": [],
   "source": [
    "draw_reaction(\"./fix/iteration_2\", idx=idx, prefix=\"gen\")"
   ]
  },
  {
   "cell_type": "code",
   "execution_count": null,
   "metadata": {},
   "outputs": [],
   "source": []
  }
 ],
 "metadata": {
  "kernelspec": {
   "display_name": "oa_reactdiff",
   "language": "python",
   "name": "python3"
  },
  "language_info": {
   "codemirror_mode": {
    "name": "ipython",
    "version": 3
   },
   "file_extension": ".py",
   "mimetype": "text/x-python",
   "name": "python",
   "nbconvert_exporter": "python",
   "pygments_lexer": "ipython3",
   "version": "3.11.4"
  }
 },
 "nbformat": 4,
 "nbformat_minor": 2
}
