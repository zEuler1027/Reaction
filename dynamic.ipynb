{
 "cells": [
  {
   "cell_type": "code",
   "execution_count": 1,
   "metadata": {},
   "outputs": [],
   "source": [
    "import torch\n",
    "from functions import data_to_pymatgen, draw_reaction\n",
    "\n",
    "data = torch.load('./generation/oapainn/iteration0/trajs.pth', map_location='cpu')"
   ]
  },
  {
   "cell_type": "code",
   "execution_count": 2,
   "metadata": {},
   "outputs": [],
   "source": [
    "fragments = data['batch0'][1][0]\n",
    "trajs = data['batch0'][0]\n",
    "\n",
    "all_mols = {}\n",
    "idx = 0\n",
    "for mols in trajs:\n",
    "    r, ts, p = mols\n",
    "    flag = 0\n",
    "    mol_r, mol_ts, mol_p = [], [], []\n",
    "    \n",
    "    for num_atoms in fragments:\n",
    "        mol_r.append(data_to_pymatgen(r[flag:flag + num_atoms]))\n",
    "        mol_ts.append(data_to_pymatgen(ts[flag:flag + num_atoms]))\n",
    "        mol_p.append(data_to_pymatgen(p[flag:flag + num_atoms]))\n",
    "        flag += num_atoms\n",
    "        \n",
    "    all_mols[f'{idx}'] = [mol_r, mol_ts, mol_p]\n",
    "    idx += 1\n"
   ]
  },
  {
   "cell_type": "code",
   "execution_count": 30,
   "metadata": {},
   "outputs": [
    {
     "data": {
      "application/3dmoljs_load.v0": "<div id=\"3dmolviewer_17153334065154157\"  style=\"position: relative; width: 1576px; height: 480px;\">\n        <p id=\"3dmolwarning_17153334065154157\" style=\"background-color:#ffcccc;color:black\">You appear to be running in JupyterLab (or JavaScript failed to load for some other reason).  You need to install the 3dmol extension: <br>\n        <tt>jupyter labextension install jupyterlab_3dmol</tt></p>\n        </div>\n<script>\n\nvar loadScriptAsync = function(uri){\n  return new Promise((resolve, reject) => {\n    //this is to ignore the existence of requirejs amd\n    var savedexports, savedmodule;\n    if (typeof exports !== 'undefined') savedexports = exports;\n    else exports = {}\n    if (typeof module !== 'undefined') savedmodule = module;\n    else module = {}\n\n    var tag = document.createElement('script');\n    tag.src = uri;\n    tag.async = true;\n    tag.onload = () => {\n        exports = savedexports;\n        module = savedmodule;\n        resolve();\n    };\n  var firstScriptTag = document.getElementsByTagName('script')[0];\n  firstScriptTag.parentNode.insertBefore(tag, firstScriptTag);\n});\n};\n\nif(typeof $3Dmolpromise === 'undefined') {\n$3Dmolpromise = null;\n  $3Dmolpromise = loadScriptAsync('https://cdnjs.cloudflare.com/ajax/libs/3Dmol/2.0.4/3Dmol-min.js');\n}\n\nvar viewer_17153334065154157 = null;\nvar warn = document.getElementById(\"3dmolwarning_17153334065154157\");\nif(warn) {\n    warn.parentNode.removeChild(warn);\n}\n$3Dmolpromise.then(function() {\nviewer_17153334065154157 = $3Dmol.createViewer(document.getElementById(\"3dmolviewer_17153334065154157\"),{backgroundColor:\"white\"});\n$3Dmol.download(\"2024\", viewer_17153334065154157, {}, function() {\nviewer_17153334065154157.zoomTo();\n\tviewer_17153334065154157.addModel(\"27\\n\\nN -0.884455 -0.577881 -1.225312\\nC 0.235943 -0.147469 -0.557428\\nC -0.052739 0.370460 0.787837\\nN 0.954959 0.804371 1.488945\\nN 1.835776 1.173781 2.090320\\nO 1.350757 -0.158806 -1.045497\\nH -0.705833 -1.089602 -2.076271\\nH -1.705935 -0.844941 -0.707019\\nH -1.028473 0.470087 1.244426\\nN 8.570537 0.435315 0.914503\\nC 11.152428 -0.350037 -1.193035\\nC 9.806590 0.121818 0.439921\\nN 12.136416 -0.406602 -0.391858\\nN 9.869663 -0.089314 -0.918976\\nO 10.799357 0.046110 1.175898\\nH 7.781574 0.339138 0.300368\\nH 8.440457 0.454054 1.911482\\nH 11.442977 -0.550483 -2.238302\\nN 18.660945 1.297173 0.135956\\nC 18.409852 0.083650 0.520278\\nC 20.343115 -0.067421 -0.158916\\nN 21.575435 -0.445561 -0.581929\\nN 19.422804 -0.825039 0.369861\\nO 19.986153 1.201589 -0.331823\\nH 22.278383 0.269287 -0.660214\\nH 21.878325 -1.340435 -0.229807\\nH 17.444988 -0.173244 0.936595\\n\",\"xyz\");\n\tviewer_17153334065154157.setStyle({\"stick\": {\"radius\": 0.2}, \"sphere\": {\"radius\": 0.35}});\n\tviewer_17153334065154157.zoomTo();\nviewer_17153334065154157.render();\n})\n});\n</script>",
      "text/html": [
       "<div id=\"3dmolviewer_17153334065154157\"  style=\"position: relative; width: 1576px; height: 480px;\">\n",
       "        <p id=\"3dmolwarning_17153334065154157\" style=\"background-color:#ffcccc;color:black\">You appear to be running in JupyterLab (or JavaScript failed to load for some other reason).  You need to install the 3dmol extension: <br>\n",
       "        <tt>jupyter labextension install jupyterlab_3dmol</tt></p>\n",
       "        </div>\n",
       "<script>\n",
       "\n",
       "var loadScriptAsync = function(uri){\n",
       "  return new Promise((resolve, reject) => {\n",
       "    //this is to ignore the existence of requirejs amd\n",
       "    var savedexports, savedmodule;\n",
       "    if (typeof exports !== 'undefined') savedexports = exports;\n",
       "    else exports = {}\n",
       "    if (typeof module !== 'undefined') savedmodule = module;\n",
       "    else module = {}\n",
       "\n",
       "    var tag = document.createElement('script');\n",
       "    tag.src = uri;\n",
       "    tag.async = true;\n",
       "    tag.onload = () => {\n",
       "        exports = savedexports;\n",
       "        module = savedmodule;\n",
       "        resolve();\n",
       "    };\n",
       "  var firstScriptTag = document.getElementsByTagName('script')[0];\n",
       "  firstScriptTag.parentNode.insertBefore(tag, firstScriptTag);\n",
       "});\n",
       "};\n",
       "\n",
       "if(typeof $3Dmolpromise === 'undefined') {\n",
       "$3Dmolpromise = null;\n",
       "  $3Dmolpromise = loadScriptAsync('https://cdnjs.cloudflare.com/ajax/libs/3Dmol/2.0.4/3Dmol-min.js');\n",
       "}\n",
       "\n",
       "var viewer_17153334065154157 = null;\n",
       "var warn = document.getElementById(\"3dmolwarning_17153334065154157\");\n",
       "if(warn) {\n",
       "    warn.parentNode.removeChild(warn);\n",
       "}\n",
       "$3Dmolpromise.then(function() {\n",
       "viewer_17153334065154157 = $3Dmol.createViewer(document.getElementById(\"3dmolviewer_17153334065154157\"),{backgroundColor:\"white\"});\n",
       "$3Dmol.download(\"2024\", viewer_17153334065154157, {}, function() {\n",
       "viewer_17153334065154157.zoomTo();\n",
       "\tviewer_17153334065154157.addModel(\"27\\n\\nN -0.884455 -0.577881 -1.225312\\nC 0.235943 -0.147469 -0.557428\\nC -0.052739 0.370460 0.787837\\nN 0.954959 0.804371 1.488945\\nN 1.835776 1.173781 2.090320\\nO 1.350757 -0.158806 -1.045497\\nH -0.705833 -1.089602 -2.076271\\nH -1.705935 -0.844941 -0.707019\\nH -1.028473 0.470087 1.244426\\nN 8.570537 0.435315 0.914503\\nC 11.152428 -0.350037 -1.193035\\nC 9.806590 0.121818 0.439921\\nN 12.136416 -0.406602 -0.391858\\nN 9.869663 -0.089314 -0.918976\\nO 10.799357 0.046110 1.175898\\nH 7.781574 0.339138 0.300368\\nH 8.440457 0.454054 1.911482\\nH 11.442977 -0.550483 -2.238302\\nN 18.660945 1.297173 0.135956\\nC 18.409852 0.083650 0.520278\\nC 20.343115 -0.067421 -0.158916\\nN 21.575435 -0.445561 -0.581929\\nN 19.422804 -0.825039 0.369861\\nO 19.986153 1.201589 -0.331823\\nH 22.278383 0.269287 -0.660214\\nH 21.878325 -1.340435 -0.229807\\nH 17.444988 -0.173244 0.936595\\n\",\"xyz\");\n",
       "\tviewer_17153334065154157.setStyle({\"stick\": {\"radius\": 0.2}, \"sphere\": {\"radius\": 0.35}});\n",
       "\tviewer_17153334065154157.zoomTo();\n",
       "viewer_17153334065154157.render();\n",
       "})\n",
       "});\n",
       "</script>"
      ]
     },
     "metadata": {},
     "output_type": "display_data"
    },
    {
     "data": {
      "text/plain": [
       "<py3Dmol.view at 0x152d677a1cf0>"
      ]
     },
     "execution_count": 30,
     "metadata": {},
     "output_type": "execute_result"
    }
   ],
   "source": [
    "draw_reaction([all_mols['0'][i][6] for i in range(3)])"
   ]
  }
 ],
 "metadata": {
  "kernelspec": {
   "display_name": "oa_reactdiff",
   "language": "python",
   "name": "python3"
  },
  "language_info": {
   "codemirror_mode": {
    "name": "ipython",
    "version": 3
   },
   "file_extension": ".py",
   "mimetype": "text/x-python",
   "name": "python",
   "nbconvert_exporter": "python",
   "pygments_lexer": "ipython3",
   "version": "3.10.4"
  }
 },
 "nbformat": 4,
 "nbformat_minor": 2
}
