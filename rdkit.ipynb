{
 "cells": [
  {
   "cell_type": "code",
   "execution_count": null,
   "metadata": {},
   "outputs": [],
   "source": [
    "from rdkit import Chem\n",
    "from rdkit.Chem import AllChem\n",
    "\n",
    "# 定义分子，这里以SMILES字符串为例\n",
    "smiles1 = 'COCCOCC=O'  # 例如乙醇\n",
    "smiles2 = 'C1CCCC1'  # 可以是另一个分子，这里简单用相同的作为例子\n",
    "\n",
    "# 从SMILES字符串创建分子对象\n",
    "mol1 = Chem.MolFromSmiles(smiles1)\n",
    "mol2 = Chem.MolFromSmiles(smiles2)\n",
    "# 添加氢原子\n",
    "mol1 = Chem.AddHs(mol1)\n",
    "mol2 = Chem.AddHs(mol2)\n",
    "print([atom.GetSymbol() for atom in mol1.GetAtoms()])\n",
    "# 进行3D构象生成\n",
    "AllChem.EmbedMolecule(mol1)\n",
    "AllChem.EmbedMolecule(mol2)\n",
    "print([atom.GetSymbol() for atom in mol1.GetAtoms()])\n",
    "mol1"
   ]
  },
  {
   "cell_type": "code",
   "execution_count": null,
   "metadata": {},
   "outputs": [],
   "source": [
    "rmsd = AllChem.AlignMol(mol1, mol2)\n",
    "rmsd"
   ]
  },
  {
   "cell_type": "code",
   "execution_count": null,
   "metadata": {},
   "outputs": [],
   "source": [
    "from pymatgen.core.structure import Molecule\n",
    "def rdmol_to_pymatmol(mol):\n",
    "    atoms = [(atom.GetSymbol(), ) for atom in mol.GetAtoms()]\n",
    "    elements = [atom[0] for atom in atoms]\n",
    "    coords = mol.GetConformer().GetPositions()\n",
    "\n",
    "    pymatmol = Molecule(elements, coords)\n",
    "    return pymatmol"
   ]
  },
  {
   "cell_type": "code",
   "execution_count": null,
   "metadata": {},
   "outputs": [],
   "source": [
    "mol1 = rdmol_to_pymatmol(mol1)\n",
    "mol2 = rdmol_to_pymatmol(mol2)"
   ]
  },
  {
   "cell_type": "code",
   "execution_count": null,
   "metadata": {},
   "outputs": [],
   "source": [
    "from oa.analyze.rmsd import rmsd_core"
   ]
  },
  {
   "cell_type": "code",
   "execution_count": null,
   "metadata": {},
   "outputs": [],
   "source": [
    "rmsd_core(mol1, mol2)"
   ]
  },
  {
   "cell_type": "code",
   "execution_count": null,
   "metadata": {},
   "outputs": [],
   "source": []
  }
 ],
 "metadata": {
  "kernelspec": {
   "display_name": "oa_reactdiff",
   "language": "python",
   "name": "python3"
  },
  "language_info": {
   "codemirror_mode": {
    "name": "ipython",
    "version": 3
   },
   "file_extension": ".py",
   "mimetype": "text/x-python",
   "name": "python",
   "nbconvert_exporter": "python",
   "pygments_lexer": "ipython3",
   "version": "3.10.4"
  }
 },
 "nbformat": 4,
 "nbformat_minor": 2
}
