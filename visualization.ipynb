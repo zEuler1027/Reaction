{
 "cells": [
  {
   "cell_type": "markdown",
   "metadata": {},
   "source": [
    "# single"
   ]
  },
  {
   "cell_type": "code",
   "execution_count": 1,
   "metadata": {},
   "outputs": [
    {
     "data": {
      "application/3dmoljs_load.v0": "<div id=\"3dmolviewer_17157590953644\"  style=\"position: relative; width: 800px; height: 400px;\">\n        <p id=\"3dmolwarning_17157590953644\" style=\"background-color:#ffcccc;color:black\">You appear to be running in JupyterLab (or JavaScript failed to load for some other reason).  You need to install the 3dmol extension: <br>\n        <tt>jupyter labextension install jupyterlab_3dmol</tt></p>\n        </div>\n<script>\n\nvar loadScriptAsync = function(uri){\n  return new Promise((resolve, reject) => {\n    //this is to ignore the existence of requirejs amd\n    var savedexports, savedmodule;\n    if (typeof exports !== 'undefined') savedexports = exports;\n    else exports = {}\n    if (typeof module !== 'undefined') savedmodule = module;\n    else module = {}\n\n    var tag = document.createElement('script');\n    tag.src = uri;\n    tag.async = true;\n    tag.onload = () => {\n        exports = savedexports;\n        module = savedmodule;\n        resolve();\n    };\n  var firstScriptTag = document.getElementsByTagName('script')[0];\n  firstScriptTag.parentNode.insertBefore(tag, firstScriptTag);\n});\n};\n\nif(typeof $3Dmolpromise === 'undefined') {\n$3Dmolpromise = null;\n  $3Dmolpromise = loadScriptAsync('https://cdnjs.cloudflare.com/ajax/libs/3Dmol/2.0.4/3Dmol-min.js');\n}\n\nvar viewer_17157590953644 = null;\nvar warn = document.getElementById(\"3dmolwarning_17157590953644\");\nif(warn) {\n    warn.parentNode.removeChild(warn);\n}\n$3Dmolpromise.then(function() {\nviewer_17157590953644 = $3Dmol.createViewer(document.getElementById(\"3dmolviewer_17157590953644\"),{backgroundColor:\"white\"});\nviewer_17157590953644.zoomTo();\n\tviewer_17157590953644.addModel(\"7\\n\\nN 0.99700364 -0.57313642 -0.26250389\\nC -1.37541802 0.29393304 -0.57237548\\nC -0.15817928 -0.12362294 -0.36548232\\nC 1.77090280 -0.33578797 0.81573582\\nN 2.52302190 -0.19932355 1.68794031\\nH -2.21428591 -0.31038242 -0.24590941\\nH -1.54304518 1.24832036 -1.05740503\\n\",\"xyz\");\n\tviewer_17157590953644.setStyle({\"sphere\": {\"scale\": 0.35}, \"stick\": {\"radius\": 0.2}});\n\tviewer_17157590953644.zoomTo();\nviewer_17157590953644.render();\n});\n</script>",
      "text/html": [
       "<div id=\"3dmolviewer_17157590953644\"  style=\"position: relative; width: 800px; height: 400px;\">\n",
       "        <p id=\"3dmolwarning_17157590953644\" style=\"background-color:#ffcccc;color:black\">You appear to be running in JupyterLab (or JavaScript failed to load for some other reason).  You need to install the 3dmol extension: <br>\n",
       "        <tt>jupyter labextension install jupyterlab_3dmol</tt></p>\n",
       "        </div>\n",
       "<script>\n",
       "\n",
       "var loadScriptAsync = function(uri){\n",
       "  return new Promise((resolve, reject) => {\n",
       "    //this is to ignore the existence of requirejs amd\n",
       "    var savedexports, savedmodule;\n",
       "    if (typeof exports !== 'undefined') savedexports = exports;\n",
       "    else exports = {}\n",
       "    if (typeof module !== 'undefined') savedmodule = module;\n",
       "    else module = {}\n",
       "\n",
       "    var tag = document.createElement('script');\n",
       "    tag.src = uri;\n",
       "    tag.async = true;\n",
       "    tag.onload = () => {\n",
       "        exports = savedexports;\n",
       "        module = savedmodule;\n",
       "        resolve();\n",
       "    };\n",
       "  var firstScriptTag = document.getElementsByTagName('script')[0];\n",
       "  firstScriptTag.parentNode.insertBefore(tag, firstScriptTag);\n",
       "});\n",
       "};\n",
       "\n",
       "if(typeof $3Dmolpromise === 'undefined') {\n",
       "$3Dmolpromise = null;\n",
       "  $3Dmolpromise = loadScriptAsync('https://cdnjs.cloudflare.com/ajax/libs/3Dmol/2.0.4/3Dmol-min.js');\n",
       "}\n",
       "\n",
       "var viewer_17157590953644 = null;\n",
       "var warn = document.getElementById(\"3dmolwarning_17157590953644\");\n",
       "if(warn) {\n",
       "    warn.parentNode.removeChild(warn);\n",
       "}\n",
       "$3Dmolpromise.then(function() {\n",
       "viewer_17157590953644 = $3Dmol.createViewer(document.getElementById(\"3dmolviewer_17157590953644\"),{backgroundColor:\"white\"});\n",
       "viewer_17157590953644.zoomTo();\n",
       "\tviewer_17157590953644.addModel(\"7\\n\\nN 0.99700364 -0.57313642 -0.26250389\\nC -1.37541802 0.29393304 -0.57237548\\nC -0.15817928 -0.12362294 -0.36548232\\nC 1.77090280 -0.33578797 0.81573582\\nN 2.52302190 -0.19932355 1.68794031\\nH -2.21428591 -0.31038242 -0.24590941\\nH -1.54304518 1.24832036 -1.05740503\\n\",\"xyz\");\n",
       "\tviewer_17157590953644.setStyle({\"sphere\": {\"scale\": 0.35}, \"stick\": {\"radius\": 0.2}});\n",
       "\tviewer_17157590953644.zoomTo();\n",
       "viewer_17157590953644.render();\n",
       "});\n",
       "</script>"
      ]
     },
     "metadata": {},
     "output_type": "display_data"
    }
   ],
   "source": [
    "import py3Dmol\n",
    "from ase import io\n",
    "\n",
    "iteration = 41\n",
    "reaction_idx = 24\n",
    "file_path = f'./generation/oapainn/iteration{iteration}/{reaction_idx}/reaction_p_align.xyz'\n",
    "\n",
    "with open(file_path, 'r') as fo:\n",
    "    xyz = fo.read()\n",
    "    \n",
    "view = py3Dmol.view(width=800, height=400)\n",
    "view.addModel(xyz, 'xyz')\n",
    "view.setStyle({'sphere': {'scale': 0.35}, 'stick': {'radius': 0.20}})\n",
    "view.zoomTo()\n",
    "view.show()"
   ]
  },
  {
   "cell_type": "markdown",
   "metadata": {},
   "source": [
    "# reaction"
   ]
  },
  {
   "cell_type": "code",
   "execution_count": 116,
   "metadata": {},
   "outputs": [
    {
     "data": {
      "application/3dmoljs_load.v0": "<div id=\"3dmolviewer_17157689585956004\"  style=\"position: relative; width: 512px; height: 480px;\">\n        <p id=\"3dmolwarning_17157689585956004\" style=\"background-color:#ffcccc;color:black\">You appear to be running in JupyterLab (or JavaScript failed to load for some other reason).  You need to install the 3dmol extension: <br>\n        <tt>jupyter labextension install jupyterlab_3dmol</tt></p>\n        </div>\n<script>\n\nvar loadScriptAsync = function(uri){\n  return new Promise((resolve, reject) => {\n    //this is to ignore the existence of requirejs amd\n    var savedexports, savedmodule;\n    if (typeof exports !== 'undefined') savedexports = exports;\n    else exports = {}\n    if (typeof module !== 'undefined') savedmodule = module;\n    else module = {}\n\n    var tag = document.createElement('script');\n    tag.src = uri;\n    tag.async = true;\n    tag.onload = () => {\n        exports = savedexports;\n        module = savedmodule;\n        resolve();\n    };\n  var firstScriptTag = document.getElementsByTagName('script')[0];\n  firstScriptTag.parentNode.insertBefore(tag, firstScriptTag);\n});\n};\n\nif(typeof $3Dmolpromise === 'undefined') {\n$3Dmolpromise = null;\n  $3Dmolpromise = loadScriptAsync('https://cdnjs.cloudflare.com/ajax/libs/3Dmol/2.0.4/3Dmol-min.js');\n}\n\nvar viewer_17157689585956004 = null;\nvar warn = document.getElementById(\"3dmolwarning_17157689585956004\");\nif(warn) {\n    warn.parentNode.removeChild(warn);\n}\n$3Dmolpromise.then(function() {\nviewer_17157689585956004 = $3Dmol.createViewer(document.getElementById(\"3dmolviewer_17157689585956004\"),{backgroundColor:\"white\"});\n$3Dmol.download(\"1200\", viewer_17157689585956004, {}, function() {\nviewer_17157689585956004.zoomTo();\n\tviewer_17157689585956004.addModel(\"30\\n\\nC -1.160302 0.063278 -0.572159\\nC 0.349368 0.188106 -0.508855\\nO 1.003606 0.537449 -1.463856\\nC 0.989533 -0.153308 0.821219\\nH -1.501532 0.167477 -1.605126\\nH -1.490124 -0.897422 -0.162567\\nH -1.616268 0.850870 0.038333\\nH 0.916545 -1.234252 0.990928\\nH 2.042787 0.136461 0.815663\\nH 0.466388 0.341339 1.646421\\nC 9.307164 -0.330493 0.021379\\nC 9.382215 0.649019 -1.139001\\nO 9.383938 0.267039 1.176762\\nC 10.734879 -0.723384 1.009608\\nH 10.514879 -1.694250 1.437514\\nH 9.948564 1.558340 -0.892256\\nH 11.291818 -0.062380 1.686533\\nH 8.342780 0.940787 -1.341544\\nH 9.766786 0.173778 -2.045325\\nH 11.326978 -0.778457 0.086329\\nC 18.293848 0.420530 0.479051\\nC 21.674022 -0.414055 -0.503666\\nO 19.486283 0.099987 -0.256042\\nC 20.561300 -0.093015 0.460535\\nH 21.397622 -0.418853 -1.564501\\nH 17.545807 -0.341346 0.245890\\nH 17.946158 1.399773 0.137862\\nH 22.082599 -1.391382 -0.217203\\nH 22.484619 0.304395 -0.326896\\nH 18.527744 0.433966 1.544970\\n\",\"xyz\");\n\tviewer_17157689585956004.setStyle({\"stick\": {\"radius\": 0.2}, \"sphere\": {\"radius\": 0.35}});\n\tviewer_17157689585956004.zoomTo();\nviewer_17157689585956004.render();\n})\n});\n</script>",
      "text/html": [
       "<div id=\"3dmolviewer_17157689585956004\"  style=\"position: relative; width: 512px; height: 480px;\">\n",
       "        <p id=\"3dmolwarning_17157689585956004\" style=\"background-color:#ffcccc;color:black\">You appear to be running in JupyterLab (or JavaScript failed to load for some other reason).  You need to install the 3dmol extension: <br>\n",
       "        <tt>jupyter labextension install jupyterlab_3dmol</tt></p>\n",
       "        </div>\n",
       "<script>\n",
       "\n",
       "var loadScriptAsync = function(uri){\n",
       "  return new Promise((resolve, reject) => {\n",
       "    //this is to ignore the existence of requirejs amd\n",
       "    var savedexports, savedmodule;\n",
       "    if (typeof exports !== 'undefined') savedexports = exports;\n",
       "    else exports = {}\n",
       "    if (typeof module !== 'undefined') savedmodule = module;\n",
       "    else module = {}\n",
       "\n",
       "    var tag = document.createElement('script');\n",
       "    tag.src = uri;\n",
       "    tag.async = true;\n",
       "    tag.onload = () => {\n",
       "        exports = savedexports;\n",
       "        module = savedmodule;\n",
       "        resolve();\n",
       "    };\n",
       "  var firstScriptTag = document.getElementsByTagName('script')[0];\n",
       "  firstScriptTag.parentNode.insertBefore(tag, firstScriptTag);\n",
       "});\n",
       "};\n",
       "\n",
       "if(typeof $3Dmolpromise === 'undefined') {\n",
       "$3Dmolpromise = null;\n",
       "  $3Dmolpromise = loadScriptAsync('https://cdnjs.cloudflare.com/ajax/libs/3Dmol/2.0.4/3Dmol-min.js');\n",
       "}\n",
       "\n",
       "var viewer_17157689585956004 = null;\n",
       "var warn = document.getElementById(\"3dmolwarning_17157689585956004\");\n",
       "if(warn) {\n",
       "    warn.parentNode.removeChild(warn);\n",
       "}\n",
       "$3Dmolpromise.then(function() {\n",
       "viewer_17157689585956004 = $3Dmol.createViewer(document.getElementById(\"3dmolviewer_17157689585956004\"),{backgroundColor:\"white\"});\n",
       "$3Dmol.download(\"1200\", viewer_17157689585956004, {}, function() {\n",
       "viewer_17157689585956004.zoomTo();\n",
       "\tviewer_17157689585956004.addModel(\"30\\n\\nC -1.160302 0.063278 -0.572159\\nC 0.349368 0.188106 -0.508855\\nO 1.003606 0.537449 -1.463856\\nC 0.989533 -0.153308 0.821219\\nH -1.501532 0.167477 -1.605126\\nH -1.490124 -0.897422 -0.162567\\nH -1.616268 0.850870 0.038333\\nH 0.916545 -1.234252 0.990928\\nH 2.042787 0.136461 0.815663\\nH 0.466388 0.341339 1.646421\\nC 9.307164 -0.330493 0.021379\\nC 9.382215 0.649019 -1.139001\\nO 9.383938 0.267039 1.176762\\nC 10.734879 -0.723384 1.009608\\nH 10.514879 -1.694250 1.437514\\nH 9.948564 1.558340 -0.892256\\nH 11.291818 -0.062380 1.686533\\nH 8.342780 0.940787 -1.341544\\nH 9.766786 0.173778 -2.045325\\nH 11.326978 -0.778457 0.086329\\nC 18.293848 0.420530 0.479051\\nC 21.674022 -0.414055 -0.503666\\nO 19.486283 0.099987 -0.256042\\nC 20.561300 -0.093015 0.460535\\nH 21.397622 -0.418853 -1.564501\\nH 17.545807 -0.341346 0.245890\\nH 17.946158 1.399773 0.137862\\nH 22.082599 -1.391382 -0.217203\\nH 22.484619 0.304395 -0.326896\\nH 18.527744 0.433966 1.544970\\n\",\"xyz\");\n",
       "\tviewer_17157689585956004.setStyle({\"stick\": {\"radius\": 0.2}, \"sphere\": {\"radius\": 0.35}});\n",
       "\tviewer_17157689585956004.zoomTo();\n",
       "viewer_17157689585956004.render();\n",
       "})\n",
       "});\n",
       "</script>"
      ]
     },
     "metadata": {},
     "output_type": "display_data"
    },
    {
     "data": {
      "text/plain": [
       "<py3Dmol.view at 0x14fe12116c80>"
      ]
     },
     "execution_count": 116,
     "metadata": {},
     "output_type": "execute_result"
    }
   ],
   "source": [
    "from function import draw_reaction, ase_to_pymatgen\n",
    "\n",
    "iteration = 26\n",
    "reaction_idx = 116\n",
    "file_path = f'./generation/oapainn/iteration{iteration}/{reaction_idx}'\n",
    "p_align_path = file_path + '/reaction_p_align.xyz'\n",
    "r_path = file_path + '/reaction_r.xyz'\n",
    "ts_path = file_path + '/reaction_ts.xyz'\n",
    "\n",
    "r = io.read(r_path)\n",
    "p_align = io.read(p_align_path)\n",
    "ts = io.read(ts_path)\n",
    "\n",
    "reaction_mols = [ase_to_pymatgen(mol) for mol in [r, ts, p_align]]\n",
    "draw_reaction(reaction_mols)"
   ]
  },
  {
   "cell_type": "code",
   "execution_count": null,
   "metadata": {},
   "outputs": [],
   "source": []
  }
 ],
 "metadata": {
  "kernelspec": {
   "display_name": "oa_reactdiff",
   "language": "python",
   "name": "python3"
  },
  "language_info": {
   "codemirror_mode": {
    "name": "ipython",
    "version": 3
   },
   "file_extension": ".py",
   "mimetype": "text/x-python",
   "name": "python",
   "nbconvert_exporter": "python",
   "pygments_lexer": "ipython3",
   "version": "3.10.4"
  }
 },
 "nbformat": 4,
 "nbformat_minor": 2
}
